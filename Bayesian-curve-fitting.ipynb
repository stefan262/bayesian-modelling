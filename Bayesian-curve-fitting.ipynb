{
 "cells": [
  {
   "cell_type": "markdown",
   "metadata": {},
   "source": [
    "# bayesian curve fitting\n",
    "\n",
    "We are given a set of N data points (x,y) and all the y values have some added constant noise $\\sigma$. Find the parameters $a_i$ such that y can be written in terms of a set of M basis functions $f_i:  y=\\sum_i^M a_i f_i(x)$ <br>\n"
   ]
  },
  {
   "cell_type": "code",
   "execution_count": 100,
   "metadata": {},
   "outputs": [],
   "source": [
    "import numpy as np\n",
    "import pandas as pd\n",
    "import matplotlib.pyplot as plt\n",
    "import scipy.optimize\n",
    "import scipy.stats\n",
    "import math\n",
    "import random\n",
    "from sklearn import linear_model"
   ]
  },
  {
   "cell_type": "code",
   "execution_count": 101,
   "metadata": {},
   "outputs": [],
   "source": [
    "#define the underlying function (polynomial)\n",
    "weights=[np.random.uniform(-0.5,0.5) for i in range(0,5)]\n",
    "def f(x,weights):\n",
    "    y=0\n",
    "    for i in range(0,len(weights)):\n",
    "        y+=weights[i]*np.power(x,i)\n",
    "    return y\n",
    "\n",
    "#parameters sigma and M\n",
    "sigma=np.random.uniform(0,0.1) #constant noise\n",
    "M=3 #number of basis functions\n",
    "\n",
    "#generate some input data and add noise\n",
    "N=30 #number of data points\n",
    "input_data=[(lambda x:(x,f(x,weights)+sigma))(np.random.uniform(-2,2)) for i in range(0,N)]\n",
    "\n",
    "x_data, y_data = [[ i for i, j in input_data ],[ j for i, j in input_data ]] #unzip the tuples in input_data\n",
    "x_data=np.array(x_data)\n",
    "y_data=np.array(y_data)"
   ]
  },
  {
   "cell_type": "markdown",
   "metadata": {},
   "source": [
    "### predict parameters $a_i$ distribution knowing $\\sigma$ and $M$ using sampling (computational Bayesian inference)\n"
   ]
  },
  {
   "cell_type": "code",
   "execution_count": 102,
   "metadata": {},
   "outputs": [
    {
     "data": {
      "image/png": "[encoded data removed]",
      "text/plain": [
       "<Figure size 432x288 with 1 Axes>"
      ]
     },
     "metadata": {
      "needs_background": "light"
     },
     "output_type": "display_data"
    }
   ],
   "source": [
    "# easy example for this method : biased coin (p=prob of heads) is tossed n=10 times and we get x=9 heads\n",
    "# using the prior distribution p ∼ U [0, 1], find the posterior distribution\n",
    "\n",
    "p_samp = np.random.uniform(size=10000)\n",
    "n,x=10,9\n",
    "prx = p_samp**x * (1-p_samp)**(n-x)\n",
    "w=prx/np.sum(prx) #calculate the weights\n",
    "\n",
    "#plot the result as a histogram\n",
    "plt.hist(p_samp, weights=w, density=True, bins=np.linspace(0,1,30))\n",
    "plt.show()"
   ]
  },
  {
   "cell_type": "code",
   "execution_count": 103,
   "metadata": {
    "jupyter": {
     "outputs_hidden": true,
     "source_hidden": true
    }
   },
   "outputs": [],
   "source": [
    "# calculate the joint log likelihood distribution \n",
    "def pr_joint(x_data,y_data,sigma,M,a):\n",
    "    \"\"\"returs the log likelihood\"\"\"\n",
    "    f_data=[0]*len(x_data)\n",
    "    for i in range (0,len(x_data)):\n",
    "        for j in range(0,M):\n",
    "            f_data[i]+=a[j]*np.power(x_data[i],j)\n",
    "    return -np.sum((np.array(y_data)-np.array(f_data))**2)/(2*sigma**2) #remove the exp so it doesn't blow up/too small\n",
    "\n",
    "# take many samples for the parameters (in this case assume y ~ a0 + a1 x + a2 x^2)\n",
    "nr_samp=100000\n",
    "a_samp=[np.random.uniform(low=-5,high=5,size=M) for i in range(0,nr_samp)]\n",
    "pr_samp=[0]*nr_samp #likelihood of each sample\n",
    "\n",
    "for i in range(0,nr_samp):\n",
    "    pr_samp[i]=pr_joint(x_data,y_data,sigma,M,a_samp[i])\n",
    "\n",
    "# find the distribution for a0, a1, a2 and the weights\n",
    "a0, a1, a2 = [[ i for i,j,k in a_samp ],[ j for i,j,k in a_samp ],[ k for i,j,k in a_samp ]] #unzip the tuples\n",
    "w=pr_samp/np.sum(pr_samp) #calculate the weights\n",
    "\n"
   ]
  },
  {
   "cell_type": "code",
   "execution_count": 107,
   "metadata": {},
   "outputs": [
    {
     "data": {
      "image/png": "[encoded data removed]",
      "text/plain": [
       "<Figure size 432x288 with 1 Axes>"
      ]
     },
     "metadata": {
      "needs_background": "light"
     },
     "output_type": "display_data"
    }
   ],
   "source": [
    "# plot histograms for a0,a1,a2\n",
    "plt.hist(a2,weights=w,density=True,bins=np.linspace(-5,5,1000))\n",
    "plt.show()"
   ]
  },
  {
   "cell_type": "markdown",
   "metadata": {},
   "source": [
    "### predict best fit parameters $a_i$ using least squares estimation\n",
    "\n"
   ]
  },
  {
   "cell_type": "code",
   "execution_count": 105,
   "metadata": {},
   "outputs": [
    {
     "name": "stdout",
     "output_type": "stream",
     "text": [
      "[ 0.         -0.05190156  1.51477849]\n"
     ]
    }
   ],
   "source": [
    "def least_squares(M,x_data,y_data):\n",
    "    \"\"\"returs the best fit coefficiets for a polyomial fit\"\"\"\n",
    "    one=[1]*len(x_data)\n",
    "    nr_feat=M\n",
    "    feat=np.column_stack([x_data**i for i in range(0,nr_feat)])\n",
    "    \n",
    "    model = linear_model.LinearRegression()\n",
    "    model.fit(feat,y_data)\n",
    "    return model.coef_\n",
    "\n",
    "a=least_squares(3,x_data,y_data)\n",
    "print(a)\n",
    "\n",
    "y_predicted=[0]*len(x_data)\n",
    "for i in range(0,len(a)):\n",
    "    y_predicted+=a[i]*x_data**i\n",
    "\n",
    "# residuals=abs(np.array(y_predicted)-y_data)\n",
    "# plt.plot(x_data,y_data,'x')\n",
    "# plt.plot(x_data,y_predicted,'o')\n",
    "# plt.show()\n",
    "\n",
    "# plt.ylim(min(residuals),max(residuals))\n",
    "# plt.plot(x_data,residuals,'o')\n",
    "# plt.show()"
   ]
  },
  {
   "cell_type": "markdown",
   "metadata": {},
   "source": [
    "### find posterior distrib for all random variables unknown (i.e. $a_i, \\sigma, M$)\n",
    "computational Bayesian inference <br>\n",
    "\n",
    "$V(M)=\\sum_i y_i^2 \\; - \\sum_i \\sum_j y_j a_i f_i(x_j)$ <br>\n",
    "=> final expression: $-\\frac{1}{\\sigma^2}\\sum_i y_i^2 \\; + (\\frac{1}{\\sigma^2} - \\frac{\\beta}{2(1+\\beta \\sigma^2)})\\; \\sum_i \\sum_j y_j a_i f_i(x_j)$"
   ]
  },
  {
   "cell_type": "code",
   "execution_count": null,
   "metadata": {},
   "outputs": [],
   "source": []
  },
  {
   "cell_type": "markdown",
   "metadata": {},
   "source": [
    "### probability distribution in terms of the number of parameters $M$"
   ]
  },
  {
   "cell_type": "code",
   "execution_count": 130,
   "metadata": {
    "scrolled": false
   },
   "outputs": [
    {
     "data": {
      "image/png": "[encoded data removed]",
      "text/plain": [
       "<Figure size 432x288 with 1 Axes>"
      ]
     },
     "metadata": {
      "needs_background": "light"
     },
     "output_type": "display_data"
    }
   ],
   "source": [
    "# posterior distribution for M from the paper\n",
    "\n",
    "N=len(x_data)\n",
    "def prob_M(M,a,x_data,y_data):\n",
    "    V0=sum(np.array(y_data)**2)\n",
    "    VM=V0\n",
    "    for i in range(0,len(y_data)):\n",
    "        for j in range(0,M):\n",
    "            VM-=y_data[i]*a[j]*x_data[i]**j\n",
    "    log_pr=np.log(math.factorial(int(M/2)))+np.log(math.factorial(int((N-M)/2)))+(N-M)/2*np.log(V0/abs(VM))\n",
    "    return log_pr\n",
    "\n",
    "max_M=15\n",
    "nr_M=[0]*max_M\n",
    "log_M=[0]*max_M\n",
    "for i in range(1,max_M):\n",
    "    nr_M[i]=i\n",
    "    a=least_squares(nr_M[i],x_data,y_data)\n",
    "    log_M[i]=prob_M(nr_M[i],a,x_data,y_data)\n",
    "\n",
    "plt.plot(nr_M,log_M)\n",
    "plt.show()\n",
    "\n"
   ]
  }
 ],
 "metadata": {
  "kernelspec": {
   "display_name": "Python 3",
   "language": "python",
   "name": "python3"
  },
  "language_info": {
   "codemirror_mode": {
    "name": "ipython",
    "version": 3
   },
   "file_extension": ".py",
   "mimetype": "text/x-python",
   "name": "python",
   "nbconvert_exporter": "python",
   "pygments_lexer": "ipython3",
   "version": "3.7.4"
  }
 },
 "nbformat": 4,
 "nbformat_minor": 4
}
